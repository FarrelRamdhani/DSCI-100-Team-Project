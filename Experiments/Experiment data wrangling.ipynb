{
 "cells": [
  {
   "cell_type": "code",
   "execution_count": 1,
   "id": "b3175ef0-9cf2-4b77-bcf3-e264565be504",
   "metadata": {},
   "outputs": [
    {
     "name": "stderr",
     "output_type": "stream",
     "text": [
      "── \u001b[1mAttaching packages\u001b[22m ─────────────────────────────────────── tidyverse 1.3.1 ──\n",
      "\n",
      "\u001b[32m✔\u001b[39m \u001b[34mggplot2\u001b[39m 3.3.6     \u001b[32m✔\u001b[39m \u001b[34mpurrr  \u001b[39m 0.3.4\n",
      "\u001b[32m✔\u001b[39m \u001b[34mtibble \u001b[39m 3.1.7     \u001b[32m✔\u001b[39m \u001b[34mdplyr  \u001b[39m 1.0.9\n",
      "\u001b[32m✔\u001b[39m \u001b[34mtidyr  \u001b[39m 1.2.0     \u001b[32m✔\u001b[39m \u001b[34mstringr\u001b[39m 1.4.0\n",
      "\u001b[32m✔\u001b[39m \u001b[34mreadr  \u001b[39m 2.1.2     \u001b[32m✔\u001b[39m \u001b[34mforcats\u001b[39m 0.5.1\n",
      "\n",
      "── \u001b[1mConflicts\u001b[22m ────────────────────────────────────────── tidyverse_conflicts() ──\n",
      "\u001b[31m✖\u001b[39m \u001b[34mdplyr\u001b[39m::\u001b[32mfilter()\u001b[39m masks \u001b[34mstats\u001b[39m::filter()\n",
      "\u001b[31m✖\u001b[39m \u001b[34mdplyr\u001b[39m::\u001b[32mlag()\u001b[39m    masks \u001b[34mstats\u001b[39m::lag()\n",
      "\n"
     ]
    }
   ],
   "source": [
    "### Run this cell before continuing. \n",
    "library(repr)\n",
    "library(tidyverse)\n",
    "options(repr.matrix.max.rows = 6) #limits output of dataframes to 6 rows"
   ]
  },
  {
   "cell_type": "code",
   "execution_count": 2,
   "id": "b5186ad1-35c3-4ff9-9d55-f16be5f48320",
   "metadata": {},
   "outputs": [
    {
     "name": "stderr",
     "output_type": "stream",
     "text": [
      "\u001b[1mRows: \u001b[22m\u001b[34m12740\u001b[39m \u001b[1mColumns: \u001b[22m\u001b[34m7\u001b[39m\n",
      "\u001b[36m──\u001b[39m \u001b[1mColumn specification\u001b[22m \u001b[36m────────────────────────────────────────────────────────\u001b[39m\n",
      "\u001b[1mDelimiter:\u001b[22m \",\"\n",
      "\u001b[32mdbl\u001b[39m  (6): volume, open, high, low, close, adjclose\n",
      "\u001b[34mdate\u001b[39m (1): date\n",
      "\n",
      "\u001b[36mℹ\u001b[39m Use `spec()` to retrieve the full column specification for this data.\n",
      "\u001b[36mℹ\u001b[39m Specify the column types or set `show_col_types = FALSE` to quiet this message.\n"
     ]
    }
   ],
   "source": [
    "XOM_data <- read_csv(\"XOM.csv\")"
   ]
  },
  {
   "cell_type": "code",
   "execution_count": 3,
   "id": "b2414838-7289-48c6-bf26-51ee59efb901",
   "metadata": {},
   "outputs": [],
   "source": [
    "XOM_data <- XOM_data |>\n",
    "                mutate(year = substr(date, 1,4), month = substr(date, 6,7)) |>\n",
    "                mutate(year = as.integer(year), month = as.integer(month))\n",
    "                "
   ]
  },
  {
   "cell_type": "code",
   "execution_count": 4,
   "id": "28583aa8-e9ec-4d0b-8ca9-eeb8acfe1307",
   "metadata": {},
   "outputs": [
    {
     "name": "stderr",
     "output_type": "stream",
     "text": [
      "\u001b[1m\u001b[22m`summarise()` has grouped output by 'year'. You can override using the\n",
      "`.groups` argument.\n"
     ]
    }
   ],
   "source": [
    "Grouped_XOM <- XOM_data |>\n",
    "                    group_by(year,month) |>\n",
    "                    summarize(monthly_price_avg = mean(close, na.rm = TRUE),\n",
    "                              monthly_vol_avg = mean(volume, na.rm = TRUE)) "
   ]
  },
  {
   "cell_type": "code",
   "execution_count": 5,
   "id": "67531ea7-9552-4fa4-b3f4-8413ad1aa5d4",
   "metadata": {},
   "outputs": [
    {
     "data": {
      "text/html": [
       "<table class=\"dataframe\">\n",
       "<caption>A grouped_df: 607 × 4</caption>\n",
       "<thead>\n",
       "\t<tr><th scope=col>year</th><th scope=col>month</th><th scope=col>monthly_price_avg</th><th scope=col>monthly_vol_avg</th></tr>\n",
       "\t<tr><th scope=col>&lt;int&gt;</th><th scope=col>&lt;int&gt;</th><th scope=col>&lt;dbl&gt;</th><th scope=col>&lt;dbl&gt;</th></tr>\n",
       "</thead>\n",
       "<tbody>\n",
       "\t<tr><td>1970</td><td>1</td><td>1.911086</td><td>1308648</td></tr>\n",
       "\t<tr><td>1970</td><td>2</td><td>1.693668</td><td>3019116</td></tr>\n",
       "\t<tr><td>1970</td><td>3</td><td>1.716704</td><td>3137371</td></tr>\n",
       "\t<tr><td>⋮</td><td>⋮</td><td>⋮</td><td>⋮</td></tr>\n",
       "\t<tr><td>2020</td><td>5</td><td>44.49100</td><td>23859565</td></tr>\n",
       "\t<tr><td>2020</td><td>6</td><td>47.61773</td><td>26588314</td></tr>\n",
       "\t<tr><td>2020</td><td>7</td><td>43.89500</td><td>17742950</td></tr>\n",
       "</tbody>\n",
       "</table>\n"
      ],
      "text/latex": [
       "A grouped\\_df: 607 × 4\n",
       "\\begin{tabular}{llll}\n",
       " year & month & monthly\\_price\\_avg & monthly\\_vol\\_avg\\\\\n",
       " <int> & <int> & <dbl> & <dbl>\\\\\n",
       "\\hline\n",
       "\t 1970 & 1 & 1.911086 & 1308648\\\\\n",
       "\t 1970 & 2 & 1.693668 & 3019116\\\\\n",
       "\t 1970 & 3 & 1.716704 & 3137371\\\\\n",
       "\t ⋮ & ⋮ & ⋮ & ⋮\\\\\n",
       "\t 2020 & 5 & 44.49100 & 23859565\\\\\n",
       "\t 2020 & 6 & 47.61773 & 26588314\\\\\n",
       "\t 2020 & 7 & 43.89500 & 17742950\\\\\n",
       "\\end{tabular}\n"
      ],
      "text/markdown": [
       "\n",
       "A grouped_df: 607 × 4\n",
       "\n",
       "| year &lt;int&gt; | month &lt;int&gt; | monthly_price_avg &lt;dbl&gt; | monthly_vol_avg &lt;dbl&gt; |\n",
       "|---|---|---|---|\n",
       "| 1970 | 1 | 1.911086 | 1308648 |\n",
       "| 1970 | 2 | 1.693668 | 3019116 |\n",
       "| 1970 | 3 | 1.716704 | 3137371 |\n",
       "| ⋮ | ⋮ | ⋮ | ⋮ |\n",
       "| 2020 | 5 | 44.49100 | 23859565 |\n",
       "| 2020 | 6 | 47.61773 | 26588314 |\n",
       "| 2020 | 7 | 43.89500 | 17742950 |\n",
       "\n"
      ],
      "text/plain": [
       "    year month monthly_price_avg monthly_vol_avg\n",
       "1   1970 1     1.911086          1308648        \n",
       "2   1970 2     1.693668          3019116        \n",
       "3   1970 3     1.716704          3137371        \n",
       "⋮   ⋮    ⋮     ⋮                 ⋮              \n",
       "605 2020 5     44.49100          23859565       \n",
       "606 2020 6     47.61773          26588314       \n",
       "607 2020 7     43.89500          17742950       "
      ]
     },
     "metadata": {},
     "output_type": "display_data"
    }
   ],
   "source": []
  },
  {
   "cell_type": "code",
   "execution_count": null,
   "id": "23fe0f96-35ea-412b-bf75-f932d7a5ad5c",
   "metadata": {},
   "outputs": [],
   "source": []
  }
 ],
 "metadata": {
  "kernelspec": {
   "display_name": "R",
   "language": "R",
   "name": "ir"
  },
  "language_info": {
   "codemirror_mode": "r",
   "file_extension": ".r",
   "mimetype": "text/x-r-source",
   "name": "R",
   "pygments_lexer": "r",
   "version": "4.1.3"
  }
 },
 "nbformat": 4,
 "nbformat_minor": 5
}
