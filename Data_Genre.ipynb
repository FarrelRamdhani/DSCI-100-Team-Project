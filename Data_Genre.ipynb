{
 "cells": [
  {
   "cell_type": "code",
   "execution_count": 1,
   "id": "5d7a3281-7de5-4000-b1f3-bdf272ea5598",
   "metadata": {},
   "outputs": [
    {
     "name": "stderr",
     "output_type": "stream",
     "text": [
      "── \u001b[1mAttaching packages\u001b[22m ─────────────────────────────────────── tidyverse 1.3.1 ──\n",
      "\n",
      "\u001b[32m✔\u001b[39m \u001b[34mggplot2\u001b[39m 3.3.6     \u001b[32m✔\u001b[39m \u001b[34mpurrr  \u001b[39m 0.3.4\n",
      "\u001b[32m✔\u001b[39m \u001b[34mtibble \u001b[39m 3.1.7     \u001b[32m✔\u001b[39m \u001b[34mdplyr  \u001b[39m 1.0.9\n",
      "\u001b[32m✔\u001b[39m \u001b[34mtidyr  \u001b[39m 1.2.0     \u001b[32m✔\u001b[39m \u001b[34mstringr\u001b[39m 1.4.0\n",
      "\u001b[32m✔\u001b[39m \u001b[34mreadr  \u001b[39m 2.1.2     \u001b[32m✔\u001b[39m \u001b[34mforcats\u001b[39m 0.5.1\n",
      "\n",
      "── \u001b[1mConflicts\u001b[22m ────────────────────────────────────────── tidyverse_conflicts() ──\n",
      "\u001b[31m✖\u001b[39m \u001b[34mdplyr\u001b[39m::\u001b[32mfilter()\u001b[39m masks \u001b[34mstats\u001b[39m::filter()\n",
      "\u001b[31m✖\u001b[39m \u001b[34mdplyr\u001b[39m::\u001b[32mlag()\u001b[39m    masks \u001b[34mstats\u001b[39m::lag()\n",
      "\n",
      "── \u001b[1mAttaching packages\u001b[22m ────────────────────────────────────── tidymodels 1.0.0 ──\n",
      "\n",
      "\u001b[32m✔\u001b[39m \u001b[34mbroom       \u001b[39m 1.0.0     \u001b[32m✔\u001b[39m \u001b[34mrsample     \u001b[39m 1.0.0\n",
      "\u001b[32m✔\u001b[39m \u001b[34mdials       \u001b[39m 1.0.0     \u001b[32m✔\u001b[39m \u001b[34mtune        \u001b[39m 1.0.0\n",
      "\u001b[32m✔\u001b[39m \u001b[34minfer       \u001b[39m 1.0.2     \u001b[32m✔\u001b[39m \u001b[34mworkflows   \u001b[39m 1.0.0\n",
      "\u001b[32m✔\u001b[39m \u001b[34mmodeldata   \u001b[39m 1.0.0     \u001b[32m✔\u001b[39m \u001b[34mworkflowsets\u001b[39m 1.0.0\n",
      "\u001b[32m✔\u001b[39m \u001b[34mparsnip     \u001b[39m 1.0.0     \u001b[32m✔\u001b[39m \u001b[34myardstick   \u001b[39m 1.0.0\n",
      "\u001b[32m✔\u001b[39m \u001b[34mrecipes     \u001b[39m 1.0.1     \n",
      "\n",
      "── \u001b[1mConflicts\u001b[22m ───────────────────────────────────────── tidymodels_conflicts() ──\n",
      "\u001b[31m✖\u001b[39m \u001b[34mscales\u001b[39m::\u001b[32mdiscard()\u001b[39m masks \u001b[34mpurrr\u001b[39m::discard()\n",
      "\u001b[31m✖\u001b[39m \u001b[34mdplyr\u001b[39m::\u001b[32mfilter()\u001b[39m   masks \u001b[34mstats\u001b[39m::filter()\n",
      "\u001b[31m✖\u001b[39m \u001b[34mrecipes\u001b[39m::\u001b[32mfixed()\u001b[39m  masks \u001b[34mstringr\u001b[39m::fixed()\n",
      "\u001b[31m✖\u001b[39m \u001b[34mdplyr\u001b[39m::\u001b[32mlag()\u001b[39m      masks \u001b[34mstats\u001b[39m::lag()\n",
      "\u001b[31m✖\u001b[39m \u001b[34myardstick\u001b[39m::\u001b[32mspec()\u001b[39m masks \u001b[34mreadr\u001b[39m::spec()\n",
      "\u001b[31m✖\u001b[39m \u001b[34mrecipes\u001b[39m::\u001b[32mstep()\u001b[39m   masks \u001b[34mstats\u001b[39m::step()\n",
      "\u001b[34m•\u001b[39m Learn how to get started at \u001b[32mhttps://www.tidymodels.org/start/\u001b[39m\n",
      "\n",
      "Warning message in file(filename, \"r\", encoding = encoding):\n",
      "“cannot open file 'tests.R': No such file or directory”\n"
     ]
    },
    {
     "ename": "ERROR",
     "evalue": "Error in file(filename, \"r\", encoding = encoding): cannot open the connection\n",
     "output_type": "error",
     "traceback": [
      "Error in file(filename, \"r\", encoding = encoding): cannot open the connection\nTraceback:\n",
      "1. source(\"tests.R\")",
      "2. file(filename, \"r\", encoding = encoding)"
     ]
    }
   ],
   "source": [
    "library(tidyverse)\n",
    "library(repr)\n",
    "library(tidymodels)\n",
    "library(dplyr)\n",
    "options(repr.matrix.max.rows = 6)\n",
    "source('tests.R')\n",
    "source('cleanup.R')"
   ]
  },
  {
   "cell_type": "code",
   "execution_count": 2,
   "id": "13b500d5-0f0b-4926-a0fb-a6659794e4b8",
   "metadata": {},
   "outputs": [
    {
     "name": "stderr",
     "output_type": "stream",
     "text": [
      "\u001b[1mRows: \u001b[22m\u001b[34m17996\u001b[39m \u001b[1mColumns: \u001b[22m\u001b[34m17\u001b[39m\n",
      "\u001b[36m──\u001b[39m \u001b[1mColumn specification\u001b[22m \u001b[36m────────────────────────────────────────────────────────\u001b[39m\n",
      "\u001b[1mDelimiter:\u001b[22m \",\"\n",
      "\u001b[31mchr\u001b[39m  (2): Artist Name, Track Name\n",
      "\u001b[32mdbl\u001b[39m (15): Popularity, danceability, energy, key, loudness, mode, speechiness...\n",
      "\n",
      "\u001b[36mℹ\u001b[39m Use `spec()` to retrieve the full column specification for this data.\n",
      "\u001b[36mℹ\u001b[39m Specify the column types or set `show_col_types = FALSE` to quiet this message.\n"
     ]
    },
    {
     "data": {
      "text/html": [
       "<table class=\"dataframe\">\n",
       "<caption>A tibble: 5 × 2</caption>\n",
       "<thead>\n",
       "\t<tr><th scope=col>Class</th><th scope=col>count</th></tr>\n",
       "\t<tr><th scope=col>&lt;fct&gt;</th><th scope=col>&lt;int&gt;</th></tr>\n",
       "</thead>\n",
       "<tbody>\n",
       "\t<tr><td>1 </td><td>1037</td></tr>\n",
       "\t<tr><td>6 </td><td>2039</td></tr>\n",
       "\t<tr><td>8 </td><td>1523</td></tr>\n",
       "\t<tr><td>9 </td><td>1099</td></tr>\n",
       "\t<tr><td>10</td><td>3374</td></tr>\n",
       "</tbody>\n",
       "</table>\n"
      ],
      "text/latex": [
       "A tibble: 5 × 2\n",
       "\\begin{tabular}{ll}\n",
       " Class & count\\\\\n",
       " <fct> & <int>\\\\\n",
       "\\hline\n",
       "\t 1  & 1037\\\\\n",
       "\t 6  & 2039\\\\\n",
       "\t 8  & 1523\\\\\n",
       "\t 9  & 1099\\\\\n",
       "\t 10 & 3374\\\\\n",
       "\\end{tabular}\n"
      ],
      "text/markdown": [
       "\n",
       "A tibble: 5 × 2\n",
       "\n",
       "| Class &lt;fct&gt; | count &lt;int&gt; |\n",
       "|---|---|\n",
       "| 1  | 1037 |\n",
       "| 6  | 2039 |\n",
       "| 8  | 1523 |\n",
       "| 9  | 1099 |\n",
       "| 10 | 3374 |\n",
       "\n"
      ],
      "text/plain": [
       "  Class count\n",
       "1 1     1037 \n",
       "2 6     2039 \n",
       "3 8     1523 \n",
       "4 9     1099 \n",
       "5 10    3374 "
      ]
     },
     "metadata": {},
     "output_type": "display_data"
    }
   ],
   "source": [
    "genre_data <- read_csv(\"train.csv\")\n",
    "colnames(genre_data) <- make.names(colnames(genre_data))\n",
    "genre_data_no <- mutate(genre_data, Class = as_factor(Class))\n",
    "\n",
    "genre_data_no <- na.omit(genre_data_no) |>\n",
    "                select(- Artist.Name, - Track.Name, - mode, - time_signature, - key) |>\n",
    "                filter(Class != 0, Class != 2,Class != 3,Class != 4, Class != 5, Class != 7)\n",
    "genre_data_no_count <- genre_data_no |>\n",
    "                group_by(Class) |>\n",
    "                summarize(count = n())\n",
    "\n",
    "genre_data_no_count"
   ]
  },
  {
   "cell_type": "code",
   "execution_count": 3,
   "id": "4a789a4e-99ac-43ac-9954-ed7c187f0057",
   "metadata": {},
   "outputs": [
    {
     "data": {
      "text/html": [
       "<table class=\"dataframe\">\n",
       "<caption>A tibble: 5000 × 12</caption>\n",
       "<thead>\n",
       "\t<tr><th scope=col>Popularity</th><th scope=col>danceability</th><th scope=col>energy</th><th scope=col>loudness</th><th scope=col>speechiness</th><th scope=col>acousticness</th><th scope=col>instrumentalness</th><th scope=col>liveness</th><th scope=col>valence</th><th scope=col>tempo</th><th scope=col>duration_in.min.ms</th><th scope=col>Class</th></tr>\n",
       "\t<tr><th scope=col>&lt;dbl&gt;</th><th scope=col>&lt;dbl&gt;</th><th scope=col>&lt;dbl&gt;</th><th scope=col>&lt;dbl&gt;</th><th scope=col>&lt;dbl&gt;</th><th scope=col>&lt;dbl&gt;</th><th scope=col>&lt;dbl&gt;</th><th scope=col>&lt;dbl&gt;</th><th scope=col>&lt;dbl&gt;</th><th scope=col>&lt;dbl&gt;</th><th scope=col>&lt;dbl&gt;</th><th scope=col>&lt;fct&gt;</th></tr>\n",
       "</thead>\n",
       "<tbody>\n",
       "\t<tr><td>44</td><td>0.796</td><td>0.441</td><td> -9.830</td><td>0.2920</td><td>0.1600</td><td>2.89e-05</td><td>0.118</td><td>0.371</td><td>158.105</td><td>137872</td><td>1</td></tr>\n",
       "\t<tr><td>35</td><td>0.341</td><td>0.470</td><td>-10.144</td><td>0.0370</td><td>0.2260</td><td>1.05e-01</td><td>0.518</td><td>0.203</td><td>144.109</td><td>204280</td><td>1</td></tr>\n",
       "\t<tr><td>29</td><td>0.516</td><td>0.948</td><td> -3.994</td><td>0.0644</td><td>0.0279</td><td>5.64e-02</td><td>0.150</td><td>0.957</td><td>170.087</td><td>130329</td><td>1</td></tr>\n",
       "\t<tr><td>⋮</td><td>⋮</td><td>⋮</td><td>⋮</td><td>⋮</td><td>⋮</td><td>⋮</td><td>⋮</td><td>⋮</td><td>⋮</td><td>⋮</td><td>⋮</td></tr>\n",
       "\t<tr><td>33</td><td>0.529</td><td>0.828</td><td>-6.686</td><td>0.0361</td><td>0.235000</td><td>0.9020</td><td>0.1840</td><td>0.342</td><td>132.033</td><td>297000</td><td>10</td></tr>\n",
       "\t<tr><td>63</td><td>0.332</td><td>0.725</td><td>-5.809</td><td>0.1160</td><td>0.000209</td><td>0.6070</td><td>0.0767</td><td>0.422</td><td>182.364</td><td>366347</td><td>10</td></tr>\n",
       "\t<tr><td>22</td><td>0.718</td><td>0.836</td><td>-6.219</td><td>0.0345</td><td>0.536000</td><td>0.0666</td><td>0.8220</td><td>0.957</td><td>122.237</td><td>162960</td><td>10</td></tr>\n",
       "</tbody>\n",
       "</table>\n"
      ],
      "text/latex": [
       "A tibble: 5000 × 12\n",
       "\\begin{tabular}{llllllllllll}\n",
       " Popularity & danceability & energy & loudness & speechiness & acousticness & instrumentalness & liveness & valence & tempo & duration\\_in.min.ms & Class\\\\\n",
       " <dbl> & <dbl> & <dbl> & <dbl> & <dbl> & <dbl> & <dbl> & <dbl> & <dbl> & <dbl> & <dbl> & <fct>\\\\\n",
       "\\hline\n",
       "\t 44 & 0.796 & 0.441 &  -9.830 & 0.2920 & 0.1600 & 2.89e-05 & 0.118 & 0.371 & 158.105 & 137872 & 1\\\\\n",
       "\t 35 & 0.341 & 0.470 & -10.144 & 0.0370 & 0.2260 & 1.05e-01 & 0.518 & 0.203 & 144.109 & 204280 & 1\\\\\n",
       "\t 29 & 0.516 & 0.948 &  -3.994 & 0.0644 & 0.0279 & 5.64e-02 & 0.150 & 0.957 & 170.087 & 130329 & 1\\\\\n",
       "\t ⋮ & ⋮ & ⋮ & ⋮ & ⋮ & ⋮ & ⋮ & ⋮ & ⋮ & ⋮ & ⋮ & ⋮\\\\\n",
       "\t 33 & 0.529 & 0.828 & -6.686 & 0.0361 & 0.235000 & 0.9020 & 0.1840 & 0.342 & 132.033 & 297000 & 10\\\\\n",
       "\t 63 & 0.332 & 0.725 & -5.809 & 0.1160 & 0.000209 & 0.6070 & 0.0767 & 0.422 & 182.364 & 366347 & 10\\\\\n",
       "\t 22 & 0.718 & 0.836 & -6.219 & 0.0345 & 0.536000 & 0.0666 & 0.8220 & 0.957 & 122.237 & 162960 & 10\\\\\n",
       "\\end{tabular}\n"
      ],
      "text/markdown": [
       "\n",
       "A tibble: 5000 × 12\n",
       "\n",
       "| Popularity &lt;dbl&gt; | danceability &lt;dbl&gt; | energy &lt;dbl&gt; | loudness &lt;dbl&gt; | speechiness &lt;dbl&gt; | acousticness &lt;dbl&gt; | instrumentalness &lt;dbl&gt; | liveness &lt;dbl&gt; | valence &lt;dbl&gt; | tempo &lt;dbl&gt; | duration_in.min.ms &lt;dbl&gt; | Class &lt;fct&gt; |\n",
       "|---|---|---|---|---|---|---|---|---|---|---|---|\n",
       "| 44 | 0.796 | 0.441 |  -9.830 | 0.2920 | 0.1600 | 2.89e-05 | 0.118 | 0.371 | 158.105 | 137872 | 1 |\n",
       "| 35 | 0.341 | 0.470 | -10.144 | 0.0370 | 0.2260 | 1.05e-01 | 0.518 | 0.203 | 144.109 | 204280 | 1 |\n",
       "| 29 | 0.516 | 0.948 |  -3.994 | 0.0644 | 0.0279 | 5.64e-02 | 0.150 | 0.957 | 170.087 | 130329 | 1 |\n",
       "| ⋮ | ⋮ | ⋮ | ⋮ | ⋮ | ⋮ | ⋮ | ⋮ | ⋮ | ⋮ | ⋮ | ⋮ |\n",
       "| 33 | 0.529 | 0.828 | -6.686 | 0.0361 | 0.235000 | 0.9020 | 0.1840 | 0.342 | 132.033 | 297000 | 10 |\n",
       "| 63 | 0.332 | 0.725 | -5.809 | 0.1160 | 0.000209 | 0.6070 | 0.0767 | 0.422 | 182.364 | 366347 | 10 |\n",
       "| 22 | 0.718 | 0.836 | -6.219 | 0.0345 | 0.536000 | 0.0666 | 0.8220 | 0.957 | 122.237 | 162960 | 10 |\n",
       "\n"
      ],
      "text/plain": [
       "     Popularity danceability energy loudness speechiness acousticness\n",
       "1    44         0.796        0.441   -9.830  0.2920      0.1600      \n",
       "2    35         0.341        0.470  -10.144  0.0370      0.2260      \n",
       "3    29         0.516        0.948   -3.994  0.0644      0.0279      \n",
       "⋮    ⋮          ⋮            ⋮      ⋮        ⋮           ⋮           \n",
       "4998 33         0.529        0.828  -6.686   0.0361      0.235000    \n",
       "4999 63         0.332        0.725  -5.809   0.1160      0.000209    \n",
       "5000 22         0.718        0.836  -6.219   0.0345      0.536000    \n",
       "     instrumentalness liveness valence tempo   duration_in.min.ms Class\n",
       "1    2.89e-05         0.118    0.371   158.105 137872             1    \n",
       "2    1.05e-01         0.518    0.203   144.109 204280             1    \n",
       "3    5.64e-02         0.150    0.957   170.087 130329             1    \n",
       "⋮    ⋮                ⋮        ⋮       ⋮       ⋮                  ⋮    \n",
       "4998 0.9020           0.1840   0.342   132.033 297000             10   \n",
       "4999 0.6070           0.0767   0.422   182.364 366347             10   \n",
       "5000 0.0666           0.8220   0.957   122.237 162960             10   "
      ]
     },
     "metadata": {},
     "output_type": "display_data"
    },
    {
     "data": {
      "text/html": [
       "<table class=\"dataframe\">\n",
       "<caption>A tibble: 5 × 2</caption>\n",
       "<thead>\n",
       "\t<tr><th scope=col>Class</th><th scope=col>count</th></tr>\n",
       "\t<tr><th scope=col>&lt;fct&gt;</th><th scope=col>&lt;int&gt;</th></tr>\n",
       "</thead>\n",
       "<tbody>\n",
       "\t<tr><td>1 </td><td>1000</td></tr>\n",
       "\t<tr><td>6 </td><td>1000</td></tr>\n",
       "\t<tr><td>8 </td><td>1000</td></tr>\n",
       "\t<tr><td>9 </td><td>1000</td></tr>\n",
       "\t<tr><td>10</td><td>1000</td></tr>\n",
       "</tbody>\n",
       "</table>\n"
      ],
      "text/latex": [
       "A tibble: 5 × 2\n",
       "\\begin{tabular}{ll}\n",
       " Class & count\\\\\n",
       " <fct> & <int>\\\\\n",
       "\\hline\n",
       "\t 1  & 1000\\\\\n",
       "\t 6  & 1000\\\\\n",
       "\t 8  & 1000\\\\\n",
       "\t 9  & 1000\\\\\n",
       "\t 10 & 1000\\\\\n",
       "\\end{tabular}\n"
      ],
      "text/markdown": [
       "\n",
       "A tibble: 5 × 2\n",
       "\n",
       "| Class &lt;fct&gt; | count &lt;int&gt; |\n",
       "|---|---|\n",
       "| 1  | 1000 |\n",
       "| 6  | 1000 |\n",
       "| 8  | 1000 |\n",
       "| 9  | 1000 |\n",
       "| 10 | 1000 |\n",
       "\n"
      ],
      "text/plain": [
       "  Class count\n",
       "1 1     1000 \n",
       "2 6     1000 \n",
       "3 8     1000 \n",
       "4 9     1000 \n",
       "5 10    1000 "
      ]
     },
     "metadata": {},
     "output_type": "display_data"
    }
   ],
   "source": [
    "genre_data_1 <- genre_data_no |>\n",
    "                    filter(Class == 1) |>\n",
    "                    head(1000)\n",
    "genre_data_6 <- genre_data_no |>\n",
    "                    filter(Class == 6) |>\n",
    "                    head(1000)\n",
    "genre_data_8 <- genre_data_no |>\n",
    "                    filter(Class == 8) |>\n",
    "                    head(1000)\n",
    "genre_data_9 <- genre_data_no |>\n",
    "                    filter(Class == 9) |>\n",
    "                    head(1000)\n",
    "genre_data_10 <- genre_data_no |>\n",
    "                    filter(Class == 10) |>\n",
    "                    head(1000)\n",
    "\n",
    "genre_data <- bind_rows(genre_data_1, genre_data_6, genre_data_8, genre_data_9, genre_data_10)\n",
    "genre_data\n",
    "\n",
    "genre_data_count <- genre_data |>\n",
    "                group_by(Class) |>\n",
    "                summarize(count = n())\n",
    "\n",
    "genre_data_count"
   ]
  },
  {
   "cell_type": "code",
   "execution_count": null,
   "id": "b5734199-ba0b-494a-a4a6-cfd051675c98",
   "metadata": {},
   "outputs": [],
   "source": []
  }
 ],
 "metadata": {
  "kernelspec": {
   "display_name": "R",
   "language": "R",
   "name": "ir"
  },
  "language_info": {
   "codemirror_mode": "r",
   "file_extension": ".r",
   "mimetype": "text/x-r-source",
   "name": "R",
   "pygments_lexer": "r",
   "version": "4.1.3"
  }
 },
 "nbformat": 4,
 "nbformat_minor": 5
}
