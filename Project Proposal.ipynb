{
 "cells": [
  {
   "cell_type": "markdown",
   "id": "e5562782-3f8b-4a0a-895b-9473b09e8142",
   "metadata": {},
   "source": [
    "# Title"
   ]
  },
  {
   "cell_type": "markdown",
   "id": "7fb72625-367e-4ce1-b1b0-a48774fbc16f",
   "metadata": {},
   "source": [
    "## Introduction"
   ]
  },
  {
   "cell_type": "markdown",
   "id": "832c97ba-2db8-494a-8bfc-53c8617c5a6b",
   "metadata": {},
   "source": [
    "## Preliminary exploratory data analysis"
   ]
  },
  {
   "cell_type": "markdown",
   "id": "6d9e500c-d4af-414b-ab6d-4395738c2951",
   "metadata": {},
   "source": [
    "## Methods"
   ]
  },
  {
   "cell_type": "markdown",
   "id": "a56d88f4-5608-4009-9b09-e288c0d413fb",
   "metadata": {},
   "source": [
    "## Expected outcomes and significance"
   ]
  }
 ],
 "metadata": {
  "kernelspec": {
   "display_name": "R",
   "language": "R",
   "name": "ir"
  },
  "language_info": {
   "codemirror_mode": "r",
   "file_extension": ".r",
   "mimetype": "text/x-r-source",
   "name": "R",
   "pygments_lexer": "r",
   "version": "4.1.3"
  }
 },
 "nbformat": 4,
 "nbformat_minor": 5
}
