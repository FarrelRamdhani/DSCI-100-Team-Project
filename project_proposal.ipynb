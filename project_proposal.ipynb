{
 "cells": [
  {
   "cell_type": "markdown",
   "id": "841dce90-f933-4945-9612-a48da1f9f26f",
   "metadata": {},
   "source": [
    "# Unraveling Music Genres using KNN Classification"
   ]
  },
  {
   "cell_type": "markdown",
   "id": "c4be626a-ff0e-4e08-a5e1-002e28f3013b",
   "metadata": {},
   "source": [
    "## Introduction\n",
    "\n"
   ]
  },
  {
   "cell_type": "markdown",
   "id": "08fbc47b-a0b5-40d1-a47f-a6f0bcbf2f5d",
   "metadata": {},
   "source": [
    "## Preliminary exploratory data analysis"
   ]
  },
  {
   "cell_type": "markdown",
   "id": "91e40d1c-4757-4933-a714-4a9f84c6a46e",
   "metadata": {},
   "source": [
    "### Loading the Data\n",
    "Our data is stored in Google Drive, to get the data, we use:"
   ]
  },
  {
   "cell_type": "code",
   "execution_count": null,
   "id": "0978e7af-3fba-4f75-a7d4-0fd8ee46ce65",
   "metadata": {},
   "outputs": [],
   "source": []
  },
  {
   "cell_type": "markdown",
   "id": "860b8c39-3aaf-4672-9bc3-fdf45329ff3e",
   "metadata": {},
   "source": [
    "### Data Wranggling"
   ]
  },
  {
   "cell_type": "code",
   "execution_count": null,
   "id": "9832cefc-ad39-479d-b7ae-01b4b67aff70",
   "metadata": {},
   "outputs": [],
   "source": []
  },
  {
   "cell_type": "markdown",
   "id": "387e25fb-80cc-440e-b2ff-cc5f944e9495",
   "metadata": {},
   "source": [
    "### Data Summarization"
   ]
  },
  {
   "cell_type": "code",
   "execution_count": null,
   "id": "28d9f180-f79f-4627-b576-7ffe47fa372c",
   "metadata": {},
   "outputs": [],
   "source": []
  },
  {
   "cell_type": "markdown",
   "id": "d3b11515-c98f-46ed-b62d-6010671e2364",
   "metadata": {},
   "source": [
    "### Data Visualization"
   ]
  },
  {
   "cell_type": "code",
   "execution_count": null,
   "id": "837c7e10-6207-4a44-ab01-8e3d7393bc7f",
   "metadata": {},
   "outputs": [],
   "source": []
  },
  {
   "cell_type": "markdown",
   "id": "e6f1ba16-0010-4d41-9445-a3496ca8867b",
   "metadata": {},
   "source": [
    "## Methods"
   ]
  },
  {
   "cell_type": "markdown",
   "id": "89cc541c-119d-4460-9921-32a2ca874059",
   "metadata": {},
   "source": [
    "## Expected outcomes and significance"
   ]
  },
  {
   "cell_type": "code",
   "execution_count": null,
   "id": "1d56e1fc-2873-440c-9d4a-71e9649606c6",
   "metadata": {},
   "outputs": [],
   "source": []
  }
 ],
 "metadata": {
  "kernelspec": {
   "display_name": "R",
   "language": "R",
   "name": "ir"
  },
  "language_info": {
   "codemirror_mode": "r",
   "file_extension": ".r",
   "mimetype": "text/x-r-source",
   "name": "R",
   "pygments_lexer": "r",
   "version": "4.1.3"
  }
 },
 "nbformat": 4,
 "nbformat_minor": 5
}
